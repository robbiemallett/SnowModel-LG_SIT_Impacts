{
 "cells": [
  {
   "cell_type": "markdown",
   "metadata": {},
   "source": [
    "# Download CDS Ice Type Data"
   ]
  },
  {
   "cell_type": "code",
   "execution_count": 3,
   "metadata": {},
   "outputs": [
    {
     "name": "stderr",
     "output_type": "stream",
     "text": [
      "2021-01-27 16:10:03,128 INFO Welcome to the CDS\n",
      "2021-01-27 16:10:03,129 INFO Sending request to https://cds.climate.copernicus.eu/api/v2/resources/satellite-sea-ice\n",
      "2021-01-27 16:10:03,384 INFO Request is queued\n",
      "2021-01-27 16:10:04,410 INFO Request is running\n",
      "2021-01-27 16:28:23,998 INFO Request is completed\n",
      "2021-01-27 16:28:24,012 INFO Downloading https://download-0000.copernicus-climate.eu/cache-compute-0000/cache/data6/dataset-satellite-sea-ice-6d891ebd-ec9f-4ea8-bf41-ab019b24c2e3.zip to download3.zip (838.3M)\n",
      "2021-01-27 16:33:47,376 INFO Download rate 2.6M/s  \n"
     ]
    },
    {
     "data": {
      "text/plain": [
       "Result(content_length=879061059,content_type=application/zip,location=https://download-0000.copernicus-climate.eu/cache-compute-0000/cache/data6/dataset-satellite-sea-ice-6d891ebd-ec9f-4ea8-bf41-ab019b24c2e3.zip)"
      ]
     },
     "execution_count": 3,
     "metadata": {},
     "output_type": "execute_result"
    }
   ],
   "source": [
    "import cdsapi\n",
    "\n",
    "c = cdsapi.Client()\n",
    "\n",
    "c.retrieve(\n",
    "    'satellite-sea-ice',\n",
    "    {\n",
    "        'variable': 'sea_ice_type',\n",
    "        'region': 'north_hemisphere',\n",
    "        'year': [\n",
    "            '2006', '2007', '2008',\n",
    "            '2009',\n",
    "        ],\n",
    "        'month': [\n",
    "            '01', '02', '03',\n",
    "            '04', '10', '11',\n",
    "            '12',\n",
    "        ],\n",
    "        'day': [\n",
    "            '01', '02', '03',\n",
    "            '04', '05', '06',\n",
    "            '07', '08', '09',\n",
    "            '10', '11', '12',\n",
    "            '13', '14', '15',\n",
    "            '16', '17', '18',\n",
    "            '19', '20', '21',\n",
    "            '22', '23', '24',\n",
    "            '25', '26', '27',\n",
    "            '28', '29', '30',\n",
    "            '31',\n",
    "        ],\n",
    "        'format': 'zip',\n",
    "    },\n",
    "    'download3.zip')"
   ]
  },
  {
   "cell_type": "code",
   "execution_count": null,
   "metadata": {},
   "outputs": [],
   "source": []
  }
 ],
 "metadata": {
  "kernelspec": {
   "display_name": "Python 3 (ipykernel)",
   "language": "python",
   "name": "python3"
  },
  "language_info": {
   "codemirror_mode": {
    "name": "ipython",
    "version": 3
   },
   "file_extension": ".py",
   "mimetype": "text/x-python",
   "name": "python",
   "nbconvert_exporter": "python",
   "pygments_lexer": "ipython3",
   "version": "3.8.12"
  }
 },
 "nbformat": 4,
 "nbformat_minor": 4
}
